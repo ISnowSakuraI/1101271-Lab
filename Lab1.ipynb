{
  "nbformat": 4,
  "nbformat_minor": 0,
  "metadata": {
    "colab": {
      "provenance": [],
      "include_colab_link": true
    },
    "kernelspec": {
      "name": "python3",
      "display_name": "Python 3"
    },
    "language_info": {
      "name": "python"
    }
  },
  "cells": [
    {
      "cell_type": "markdown",
      "metadata": {
        "id": "view-in-github",
        "colab_type": "text"
      },
      "source": [
        "<a href=\"https://colab.research.google.com/github/ISnowSakuraI/1101271-Lab/blob/main/Lab1.ipynb\" target=\"_parent\"><img src=\"https://colab.research.google.com/assets/colab-badge.svg\" alt=\"Open In Colab\"/></a>"
      ]
    },
    {
      "cell_type": "markdown",
      "source": [
        "# ชื่อ-นามสกุล : ธันวา ชนะสาร\n",
        "\n",
        "# รหัสนักศึกษา : B6501747"
      ],
      "metadata": {
        "id": "T5WqLn5QWk5T"
      }
    },
    {
      "cell_type": "markdown",
      "source": [
        "**Problem 1** (1 คะแนน)\n",
        "\n",
        "---\n",
        "\n",
        "\n",
        "1. นาย A ต้องการกดเงิน xx บาท ผ่านตู้ ATM ซึ่งบรรจุเฉพาะธนบัตร 100 บาท\n",
        "\n",
        "จงเขียนโปรแกรมเพื่อควบคุมตู้ ATM นี้ ให้สามารถแลกธนบัตรได้ถูกต้อง และครบถ้วน โดยให้แสดงผลลัพธ์เป็นจำนวนธนบัตรทั้งหมดที่แลกได้\n",
        "\n",
        "*   Input : จำนวนเงินที่นาย A ต้องการกด (เป็นเลขจำนวนเต็มที่หาร 100 ลงตัวเท่านั้น)\n",
        "*   Output : xx ใบ\n",
        "\n",
        "\n",
        "Example\n",
        "*   Input : 1100\n",
        "*   Output : 11 ใบ\n",
        "\n",
        "Hint\n",
        "*   Hint 1: Division(/)(ได้ผลหารเลขจำนวนเต็ม Ex. 10/4 = 2)\n",
        "*   Hint 2 : print(\"value = %d\", % (var1))"
      ],
      "metadata": {
        "id": "qfiAjIdhlB2A"
      }
    },
    {
      "cell_type": "code",
      "source": [
        "############################################################\n",
        "#                      Answer: Problem 1                   #\n",
        "############################################################\n",
        "\n",
        "price = input() # input คือ ฟังก์ชันรอรับจำนวนเงินที่นาย A ต้องการกด (เป็นเลขจำนวนเต็มที่หาร 100 ลงตัวเท่านั้น)\n",
        "price = int(price) # รับเข้ามาเป็น String ต้องแปลงเป็นเลขจำนวนเต็ม Integer\n",
        "\n",
        "# Add Code Here\n",
        "result = price // 100\n",
        "print(\"%d ใบ\" % (result))"
      ],
      "metadata": {
        "id": "iTkjynnfrbBX"
      },
      "execution_count": null,
      "outputs": []
    },
    {
      "cell_type": "markdown",
      "source": [
        "**Problem 2** (1 คะแนน)\n",
        "\n",
        "---\n",
        "\n",
        "\n",
        "2. นาย A ต้องการกดเงิน xx บาท ผ่านตู้ ATM ซึ่งบรรจุเฉพาะธนบัตร 500 บาท และเหรียญ 1 บาท\n",
        "\n",
        "จงเขียนโปรแกรมเพื่อควบคุมตู้ ATM นี้ ให้สามารถแลกธนบัตรได้ถูกต้อง และครบถ้วน โดยให้แสดงผลลัพธ์เป็นจำนวนธนบัตร หรือเหรียญทั้งหมดที่แลกได้ โดยต้องทอนธนบัตรใหญ่ที่สุดก่อนเสมอ\n",
        "\n",
        "*   Input : จำนวนเงินที่นาย A ต้องการกด\n",
        "*   Output : 500 บาท xx ใบ, 1 บาท xx เหรียญ\n",
        "\n",
        "\n",
        "Example\n",
        "*   Input : 1010\n",
        "*   Output : 500 บาท 2 ใบ, 1 บาท 10 เหรียญ\n",
        "\n",
        "Hint\n",
        "*   Hint 1: Mod(%)(การหารเหลือเศษ)\n",
        "*   Hint 2 : print(\"value = %d, %d\", % (var1,var2))\n"
      ],
      "metadata": {
        "id": "JSXCgyTuEYGG"
      }
    },
    {
      "cell_type": "code",
      "execution_count": null,
      "metadata": {
        "id": "6KI7_TPmDdWc"
      },
      "outputs": [],
      "source": [
        "############################################################\n",
        "#                      Answer: Problem 1                   #\n",
        "############################################################\n",
        "\n",
        "price = int(input()) # input คือ ฟังก์ชันรอรับจำนวนเงินที่นาย A ต้องการกด\n",
        "\n",
        "# Add Code Here\n",
        "bill_500 = price // 500\n",
        "coin_1 = price % 500\n",
        "print(\"500 บาท %d ใบ, 1 บาท %d เหรียญ\" % (bill_500, coin_1))\n"
      ]
    },
    {
      "cell_type": "markdown",
      "source": [
        "**Problem 3** (1 คะแนน)\n",
        "\n",
        "---\n",
        "\n",
        "\n",
        "3.   นาย Mark ต้องการซื้อผลไม้ในตลาด โดยมีรายการซื้อของดังนี้ มะม่วง A กิโลกรัม\n",
        "ส้ม B กิโลกรัม และฝรั่ง C กิโลกรัม ซึ่งมีราคา 70, 60, 40 บาทต่อกิโลกรัม ตามลำดับ ถ้านาย Mark มีเงินอยู่ XX บาท จะมีเงินพอซื้อของทั้งหมดหรือไม่  จงแสดงผลลัพธ์ว่าต้องได้รับเงินทอน หรือยังขาดเงินอยู่เท่าใด\n",
        "\n",
        "Input:\n",
        "*   จำนวนผลไม้ A, B, C ตามลำดับ\n",
        "*   จำนวนเงินของนาย Mark\n",
        "\n",
        "Output:\n",
        "*   ราคาสินค้าทั้งหมด xx บาท\n",
        "*   ขาดเงิน xx บาท\" หรือ \"เงินทอน xx บาท\n",
        "\n",
        "็Hint:\n",
        "*   การใช้ List เก็บข้อมูล list_var = [A,B,C]\n",
        "*   `if condition:\n",
        "           statement\n",
        "    else:\n",
        "           statement`"
      ],
      "metadata": {
        "id": "OBoxKa1SWUq8"
      }
    },
    {
      "cell_type": "code",
      "source": [
        "############################################################\n",
        "#                      Answer: Problem 3                   #\n",
        "############################################################\n",
        "\n",
        "fruit = [\"มะม่วง\",\"ส้ม\",\"ฝรั่ง\"]\n",
        "price = [70,60,40]\n",
        "\n",
        "A = int(input()) # input คือ ฟังก์ชันรอรับจำนวนน้ำหนักของมะม่วง\n",
        "\n",
        "# Add Code Here\n",
        "B = int(input()) # ส้ม\n",
        "C = int(input()) # ฝรั่ง\n",
        "my_money = float(input()) # จำนวนเงินที่มี\n",
        "\n",
        "# คำนวณราคารวมของผลไม้\n",
        "total_price = (A * price[0]) + (B * price[1]) + (C * price[2])\n",
        "\n",
        "# พิมพ์ราคารวม\n",
        "print(\"ราคาสินค้าทั้งหมด %d บาท\" % (total_price))\n",
        "\n",
        "if my_money >= total_price:\n",
        "  # ถ้าเงินพอ\n",
        "  change = my_money - total_price\n",
        "  print(\"เงินทอน %.2f บาท\" % (change))\n",
        "else:\n",
        "  # ถ้าเงินไม่พอ\n",
        "  needed = total_price - my_money\n",
        "  print(\"ขาดเงิน %.2f บาท\" % (needed))"
      ],
      "metadata": {
        "id": "tjLYCe8xdp1l"
      },
      "execution_count": null,
      "outputs": []
    },
    {
      "cell_type": "markdown",
      "source": [
        "**Problem 4** (1 คะแนน)\n",
        "\n",
        "---\n",
        "4. จงสร้าง แก้ไข และแสดงผลข้อมูลใน Dictionary\n",
        "\n",
        "**คำสั่งที่ 1:** จงสร้าง Dictionary ที่เหมาะสม ชื่อ dict1 เพื่อเก็บข้อมูลของนักศึกษา ดังนี้\n",
        "*   B5601: 80, B5602: 75, B5603: 90, B5604: 80, B5605: 75, B5606: 101\n",
        "*   โดยข้อมูลที่มีคะแนนเท่ากัน ต้องมี Key เดียวกัน\n",
        "\n",
        "**คำสั่งที่ 2:** จง Backup ข้อมูล dict 1 เป็นอีกชุดหนึ่งให้ชื่อว่า dict2\n",
        "\n",
        "**คำสั่งที่ 3:** จงแก้ไข dict1 ให้ถูกต้อง เนื่องจากมีข้อผิดพลาดของข้อมูลใน Dictionary ด้านบน ดังนี้\n",
        "*   B5603 ต้องลดลง 10 คะแนน\n",
        "*   B5606 ไม่ใช่นักศึกษา พิมพ์เกินมาต้องลบทิ้ง\n",
        "\n",
        "**คำสั่งที่ 4:** จงแสดงผลลัพธ์ของข้อมูลใน Dictionary ที่แก้ไขแล้ว และข้อมูลก่อนแก้ไขดังนี้\n",
        "*   ข้อมูลเดิมก่อนแก้ไข\n",
        "*   ข้อมูลใหม่หลังแก้ไขข้อผิดพลาด\n",
        "\n",
        "Input: -\n",
        "\n",
        "Output:\n",
        "*   dict1 (before revision)\n",
        "*   dict1 (after revision)\n"
      ],
      "metadata": {
        "id": "-iP0LHXuA2nj"
      }
    },
    {
      "cell_type": "code",
      "source": [
        "############################################################\n",
        "#                      Answer: Problem 4                   #\n",
        "############################################################\n",
        "import copy;\n",
        "# Command 1: Create dictionary (dict1)\n",
        "\n",
        "    # Add Code Here\n",
        "dict1 = {\n",
        "    80: ['B5601', 'B5604'],\n",
        "    75: ['B5602','B5605'],\n",
        "    90: ['B5603'],\n",
        "    101: ['B5606']\n",
        "}\n",
        "\n",
        "# Command 2: Backup dictionary (dict1 -> dict2)\n",
        "\n",
        "    # Add Code Here\n",
        "dict2 = copy.deepcopy(dict1)\n",
        "\n",
        "# Command 3: Revise dictionary (a score of B5603 and delete B5606)\n",
        "\n",
        "    # Add Code Here\n",
        "dict1[80].append('B5603')\n",
        "\n",
        "del dict1[90]\n",
        "del dict1[101]\n",
        "\n",
        "# Command 4: Show dictionary before and after revision\n",
        "\n",
        "    # Add Code Here\n",
        "# dict2 คือข้อมูล \"ก่อน\" แก้ไข\n",
        "print(f\"dict1 (before revision): {dict2}\")\n",
        "\n",
        "# dict1 คือข้อมูล \"หลัง\" แก้ไข\n",
        "print(f\"dict1 (after revision): {dict1}\")"
      ],
      "metadata": {
        "id": "yynnQndWA0d3",
        "outputId": "79de5bd1-15bd-4477-fdff-d22ae82862b2",
        "colab": {
          "base_uri": "https://localhost:8080/"
        }
      },
      "execution_count": 26,
      "outputs": [
        {
          "output_type": "stream",
          "name": "stdout",
          "text": [
            "dict1 (before revision): {80: ['B5601', 'B5604'], 75: ['B5602', 'B5605'], 90: ['B5603'], 101: ['B5606']}\n",
            "dict1 (after revision): {80: ['B5601', 'B5604', 'B5603'], 75: ['B5602', 'B5605']}\n"
          ]
        }
      ]
    },
    {
      "cell_type": "markdown",
      "source": [
        "** Problem 5** (2 คะแนน)\n",
        "\n",
        "---\n",
        "5. จงคำนวณค่าองศาฟาเรนไฮต์ F หรือองศาเคนวิน K เมื่อสูตรคำนวณการแปลงองศาฟาเรนไฮต์เป็นองศาเคนวิน เป็นดังนี้\n",
        "\n",
        "---\n",
        "\n",
        "K = 5/9*(F+459.67)\n",
        "\n",
        "---\n",
        "\n",
        "*ส่วนสูตรคำนวณการแปลงองศาเคลวินเป็นองศาฟาเรนไฮต์ ให้นักศึกษาคิดด้วยตนเอง*\n",
        "\n",
        "\n",
        "**คำสั่งที่ 1:**\tกำหนดรับข้อมูลนำเข้าคือ องศาฟาเรนไฮต์ (F)  ให้พิมพ์ผลการคำนวณองศาเคลวิน (K) อออกจากจอภาพ โดยมีรูปแบบ (Format) ที่กำหนดดังนี้\n",
        "*   Input : องศาฟาเรนไฮต์ (F) ที่รับเข้า\n",
        "*   Output : xx F = xx K\n",
        "\n",
        "Example:\n",
        "*   Input : 32\n",
        "*   Output : 32.00 F = 273.15 K\n",
        "\n",
        "\n",
        "**คำสั่งที่ 2:**\tกำหนดรับข้อมูลนำเข้าคือ องศาเคลวิน (K)  ให้พิมพ์ผลการคำนวณองศาฟาเรนไฮต์ (F) อออกจากจอภาพ โดยมีรูปแบบ (Format) ที่กำหนดดังนี้\n",
        "*   Input : องศาเคลวิน (K) ที่รับเข้า\n",
        "*   Output : xx K = xx F\n",
        "\n",
        "Example:\n",
        "*   Input : 273.15\n",
        "*   Output : 273.15 K = 32.00 F\n",
        "\n",
        "\n",
        "**เงื่อนไข:**\n",
        "* ข้อมูลนำเข้า และผลลัพธ์ ให้แสดงเป็นทศนิยม 2 ตำแหน่งเท่านั้น\n",
        "* การคำนวณผลลัพธ์ ต้องคำนวณมาจากสูตรเท่านั้น จึงจะได้รับคะแนน\n",
        "* หากค่าผลลัพธ์ถูกต้อง แต่รูปแบบไม่ถูกต้อง ได้ข้อละ 0.5 คะแนน\n",
        "\n"
      ],
      "metadata": {
        "id": "29RA9sNCUBFO"
      }
    },
    {
      "cell_type": "code",
      "source": [
        "############################################################\n",
        "#                      Answer: Problem 5                   #\n",
        "############################################################\n",
        "\n",
        "#Command 1: แปลงข้อมูลจากองศาฟาเรนไฮต์ F เป็นองศาเคลวิน K\n",
        "\n",
        "    # Add Code Here\n",
        "F = float(input())\n",
        "K = (5/9) * (F + 459.67)\n",
        "print(\"%.2f F = %.2f K\" % (F, K))\n",
        "\n",
        "#Command 2: แปลงข้อมูลจากองศาเคลวิน K เป็นองศาฟาเรนไฮต์ F\n",
        "\n",
        "    # Add Code Here\n",
        "K_input = float(input())\n",
        "F_output = (K_input * (9/5)) - 459.67\n",
        "print(\"%.2f K = %.2f F\" % (K_input, F_output))\n"
      ],
      "metadata": {
        "id": "gUwimYSpT45R"
      },
      "execution_count": null,
      "outputs": []
    }
  ]
}